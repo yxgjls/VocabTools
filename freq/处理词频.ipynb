{
 "cells": [
  {
   "cell_type": "code",
   "execution_count": null,
   "id": "87247bb8-9ca9-4397-8e08-95e2e17c03a8",
   "metadata": {},
   "outputs": [],
   "source": [
    "google = pd.read_csv(\"google.csv\", header = None)\n",
    "SUBTLEXus = pd.read_csv(\"SUBTLEXus.csv\", header = None)\n",
    "unibnc = pd.read_csv(\"unibnc.csv\")\n",
    "unicoca60k = pd.read_csv(\"unicoca60k.csv\")\n",
    "uniiweb = pd.read_csv(\"uniiweb.csv\")"
   ]
  },
  {
   "cell_type": "code",
   "execution_count": 50,
   "id": "c31d55a0-6437-4470-9643-c10f3ebef779",
   "metadata": {},
   "outputs": [],
   "source": [
    "df[0].head(3000).to_csv('3kfiltered_SUBTLEXus.txt', index=False, header=False)"
   ]
  },
  {
   "cell_type": "code",
   "execution_count": 67,
   "id": "cf0fc5d5-7c77-4ced-bd0f-25d1b5301c3b",
   "metadata": {},
   "outputs": [],
   "source": [
    "import pandas as pd\n",
    "def exk(path):\n",
    "    data = pd.read_csv(path,header=None)\n",
    "    data[0].head(3000).to_csv('3k'+path, index=False, header=False)\n",
    "    data[0].head(6000).to_csv('6k'+path, index=False, header=False)\n",
    "    data[0].head(10000).to_csv('10k'+path, index=False, header=False)\n",
    "    data[0].head(15000).to_csv('15k'+path, index=False, header=False)\n",
    "    data[0].head(25000).to_csv('25k'+path, index=False, header=False)\n",
    "    data[0].head(40000).to_csv('40k'+path, index=False, header=False)\n",
    "    data[0].head(51381).to_csv('51k'+path, index=False, header=False)"
   ]
  },
  {
   "cell_type": "code",
   "execution_count": 68,
   "id": "5f927b32-6759-43ac-a578-84ec0f99dc50",
   "metadata": {},
   "outputs": [],
   "source": [
    "path = \"filtered_uniiweb.txt\"\n",
    "exk(path)"
   ]
  },
  {
   "cell_type": "code",
   "execution_count": 2,
   "id": "c6a2da0a-f12f-480a-a68a-ea0e9451e117",
   "metadata": {},
   "outputs": [
    {
     "data": {
      "text/html": [
       "<div>\n",
       "<style scoped>\n",
       "    .dataframe tbody tr th:only-of-type {\n",
       "        vertical-align: middle;\n",
       "    }\n",
       "\n",
       "    .dataframe tbody tr th {\n",
       "        vertical-align: top;\n",
       "    }\n",
       "\n",
       "    .dataframe thead th {\n",
       "        text-align: right;\n",
       "    }\n",
       "</style>\n",
       "<table border=\"1\" class=\"dataframe\">\n",
       "  <thead>\n",
       "    <tr style=\"text-align: right;\">\n",
       "      <th></th>\n",
       "      <th>Word</th>\n",
       "    </tr>\n",
       "  </thead>\n",
       "  <tbody>\n",
       "    <tr>\n",
       "      <th>0</th>\n",
       "      <td>the</td>\n",
       "    </tr>\n",
       "    <tr>\n",
       "      <th>1</th>\n",
       "      <td>to</td>\n",
       "    </tr>\n",
       "    <tr>\n",
       "      <th>2</th>\n",
       "      <td>a</td>\n",
       "    </tr>\n",
       "    <tr>\n",
       "      <th>3</th>\n",
       "      <td>you</td>\n",
       "    </tr>\n",
       "    <tr>\n",
       "      <th>4</th>\n",
       "      <td>and</td>\n",
       "    </tr>\n",
       "    <tr>\n",
       "      <th>...</th>\n",
       "      <td>...</td>\n",
       "    </tr>\n",
       "    <tr>\n",
       "      <th>74280</th>\n",
       "      <td>Zoroastrian</td>\n",
       "    </tr>\n",
       "    <tr>\n",
       "      <th>74281</th>\n",
       "      <td>Zoroastrianism</td>\n",
       "    </tr>\n",
       "    <tr>\n",
       "      <th>74282</th>\n",
       "      <td>zugzwang</td>\n",
       "    </tr>\n",
       "    <tr>\n",
       "      <th>74283</th>\n",
       "      <td>zygotes</td>\n",
       "    </tr>\n",
       "    <tr>\n",
       "      <th>74284</th>\n",
       "      <td>zymurgy</td>\n",
       "    </tr>\n",
       "  </tbody>\n",
       "</table>\n",
       "<p>74285 rows × 1 columns</p>\n",
       "</div>"
      ],
      "text/plain": [
       "                 Word\n",
       "0                 the\n",
       "1                  to\n",
       "2                   a\n",
       "3                 you\n",
       "4                 and\n",
       "...               ...\n",
       "74280     Zoroastrian\n",
       "74281  Zoroastrianism\n",
       "74282        zugzwang\n",
       "74283         zygotes\n",
       "74284         zymurgy\n",
       "\n",
       "[74285 rows x 1 columns]"
      ]
     },
     "execution_count": 2,
     "metadata": {},
     "output_type": "execute_result"
    }
   ],
   "source": [
    "path = \"SUBTLEXus.csv\"\n",
    "data = pd.read_csv(path)\n",
    "data"
   ]
  },
  {
   "cell_type": "code",
   "execution_count": 2,
   "id": "a5324255-54cc-43d4-973d-d535cf38878e",
   "metadata": {},
   "outputs": [],
   "source": [
    "import pandas as pd\n",
    "def modify_and_filter(a, b):\n",
    "    result = []\n",
    "    \n",
    "    for item in b:\n",
    "        if item in a:\n",
    "            result.append(item)\n",
    "        else:\n",
    "            # 尝试首字母大写\n",
    "            capitalized_item = item.capitalize()\n",
    "            if capitalized_item in a:\n",
    "                result.append(capitalized_item)\n",
    "            else:\n",
    "                # 尝试全部大写\n",
    "                upper_item = item.upper()\n",
    "                if upper_item in a:\n",
    "                    result.append(upper_item)\n",
    "                else:\n",
    "                    # 如果所有形式都不在列表a中，则删除该元素\n",
    "                    pass\n",
    "    \n",
    "    return result\n",
    "\n",
    "\n",
    "\n"
   ]
  },
  {
   "cell_type": "code",
   "execution_count": null,
   "id": "5afc82a7-1985-40a2-b58b-ef70cb9c8e1b",
   "metadata": {},
   "outputs": [],
   "source": []
  },
  {
   "cell_type": "code",
   "execution_count": 5,
   "id": "320db7dd-5963-4711-b6fb-d2fdf7939221",
   "metadata": {},
   "outputs": [],
   "source": [
    "path = \"wordlist.txt\"\n",
    "with open('wordlist.txt', 'r', encoding='utf-8') as file:\n",
    "    wordlist = file.readlines()\n",
    "wordlist= [wordlist.rstrip('\\n') for wordlist in wordlist] "
   ]
  },
  {
   "cell_type": "code",
   "execution_count": 9,
   "id": "675bcc23-e8f6-4bc8-bc30-04e2e1b613e7",
   "metadata": {},
   "outputs": [],
   "source": [
    "with open('google.csv', 'r', encoding='utf-8') as file:\n",
    "    data = file.readlines()\n",
    "google= [data.rstrip('\\n') for data in data] \n",
    "\n",
    "with open('SUBTLEXus.csv', 'r', encoding='utf-8') as file:\n",
    "    data = file.readlines()\n",
    "SUBTLEXus= [data.rstrip('\\n') for data in data] \n",
    "\n",
    "with open('unibnc.csv', 'r', encoding='utf-8') as file:\n",
    "    data = file.readlines()\n",
    "unibnc= [data.rstrip('\\n') for data in data] \n",
    "\n",
    "with open('unicoca60k.csv', 'r', encoding='utf-8') as file:\n",
    "    data = file.readlines()\n",
    "unicoca60k= [data.rstrip('\\n') for data in data] \n",
    "\n",
    "with open('uniiweb.csv', 'r', encoding='utf-8') as file:\n",
    "    data = file.readlines()\n",
    "uniiweb= [data.rstrip('\\n') for data in data] "
   ]
  },
  {
   "cell_type": "code",
   "execution_count": null,
   "id": "ba3be144-fcbb-479f-a1d9-732d98aafb2c",
   "metadata": {},
   "outputs": [],
   "source": []
  },
  {
   "cell_type": "code",
   "execution_count": 4,
   "id": "5e6031bc-1236-4826-bb1a-6287a7dc7d3a",
   "metadata": {},
   "outputs": [],
   "source": []
  },
  {
   "cell_type": "code",
   "execution_count": 12,
   "id": "4a4e9b08-7021-4c93-a39f-8dc365d2dbe9",
   "metadata": {},
   "outputs": [
    {
     "ename": "KeyboardInterrupt",
     "evalue": "",
     "output_type": "error",
     "traceback": [
      "\u001b[1;31m---------------------------------------------------------------------------\u001b[0m",
      "\u001b[1;31mKeyboardInterrupt\u001b[0m                         Traceback (most recent call last)",
      "Input \u001b[1;32mIn [12]\u001b[0m, in \u001b[0;36m<cell line: 1>\u001b[1;34m()\u001b[0m\n\u001b[1;32m----> 1\u001b[0m result \u001b[38;5;241m=\u001b[39m \u001b[43mmodify_and_filter\u001b[49m\u001b[43m(\u001b[49m\u001b[43mwordlist\u001b[49m\u001b[43m,\u001b[49m\u001b[43m \u001b[49m\u001b[43mgoogle\u001b[49m\u001b[43m)\u001b[49m\n\u001b[0;32m      2\u001b[0m \u001b[38;5;28;01mwith\u001b[39;00m \u001b[38;5;28mopen\u001b[39m(\u001b[38;5;124m\"\u001b[39m\u001b[38;5;124mfiltered_google.txt\u001b[39m\u001b[38;5;124m\"\u001b[39m, \u001b[38;5;124m\"\u001b[39m\u001b[38;5;124mw\u001b[39m\u001b[38;5;124m\"\u001b[39m,encoding\u001b[38;5;241m=\u001b[39m\u001b[38;5;124m\"\u001b[39m\u001b[38;5;124mutf-8\u001b[39m\u001b[38;5;124m\"\u001b[39m) \u001b[38;5;28;01mas\u001b[39;00m f:\n\u001b[0;32m      3\u001b[0m     f\u001b[38;5;241m.\u001b[39mwrite(\u001b[38;5;124m\"\u001b[39m\u001b[38;5;130;01m\\n\u001b[39;00m\u001b[38;5;124m\"\u001b[39m\u001b[38;5;241m.\u001b[39mjoin(result))\n",
      "Input \u001b[1;32mIn [11]\u001b[0m, in \u001b[0;36mmodify_and_filter\u001b[1;34m(a, b)\u001b[0m\n\u001b[0;32m      4\u001b[0m \u001b[38;5;28;01mfor\u001b[39;00m item \u001b[38;5;129;01min\u001b[39;00m b:\n\u001b[0;32m      5\u001b[0m     \u001b[38;5;28;01mif\u001b[39;00m item \u001b[38;5;129;01min\u001b[39;00m a:\n\u001b[1;32m----> 6\u001b[0m         \u001b[43mresult\u001b[49m\u001b[38;5;241;43m.\u001b[39;49m\u001b[43mappend\u001b[49m\u001b[43m(\u001b[49m\u001b[43mitem\u001b[49m\u001b[43m)\u001b[49m\n\u001b[0;32m      7\u001b[0m     \u001b[38;5;28;01melse\u001b[39;00m:\n\u001b[0;32m      8\u001b[0m         \u001b[38;5;66;03m# 尝试首字母大写\u001b[39;00m\n\u001b[0;32m      9\u001b[0m         capitalized_item \u001b[38;5;241m=\u001b[39m item\u001b[38;5;241m.\u001b[39mcapitalize()\n",
      "\u001b[1;31mKeyboardInterrupt\u001b[0m: "
     ]
    }
   ],
   "source": [
    "\n",
    "result = modify_and_filter(wordlist, cefr)\n",
    "with open(\"filtered_google.txt\", \"w\",encoding=\"utf-8\") as f:\n",
    "    f.write(\"\\n\".join(result))"
   ]
  },
  {
   "cell_type": "code",
   "execution_count": 33,
   "id": "f2249abd-6c9f-4a91-8c0e-ec970fb44b05",
   "metadata": {},
   "outputs": [
    {
     "data": {
      "text/plain": [
       "0                     the\n",
       "1                      of\n",
       "2                     and\n",
       "3                       a\n",
       "4                      in\n",
       "               ...       \n",
       "130766       &agr;-methyl\n",
       "130767    &agr;-linolenic\n",
       "130768      &agr;-helices\n",
       "130769     &aelig;thelric\n",
       "130770             &acirc\n",
       "Name: 0, Length: 130771, dtype: object"
      ]
     },
     "execution_count": 33,
     "metadata": {},
     "output_type": "execute_result"
    }
   ],
   "source": [
    "unibnc['0']"
   ]
  },
  {
   "cell_type": "code",
   "execution_count": 23,
   "id": "c3594128-b976-4abb-a214-a1b2cfa7de78",
   "metadata": {},
   "outputs": [],
   "source": [
    "cefr = pd.read_csv(\"cefr.txt\",header=None)\n",
    "#cefr[0].to_csv(\"c2.txt\", header=None, index=None)\n",
    "cefr = list(set(cefr[0]))\n",
    "cefr = pd.DataFrame(cefr)\n",
    "cefr.to_csv(\"2cefr.txt\", header=None, index=None)"
   ]
  },
  {
   "cell_type": "code",
   "execution_count": 7,
   "id": "ff1680e6-7c98-41d1-8a39-6ea359aca7e1",
   "metadata": {},
   "outputs": [],
   "source": [
    "google = pd.read_csv(\"google.csv\", header = None)\n",
    "SUBTLEXus = pd.read_csv(\"SUBTLEXus.csv\", header = None)\n",
    "unibnc = pd.read_csv(\"unibnc.csv\")\n",
    "unicoca60k = pd.read_csv(\"unicoca60k.csv\")\n",
    "uniiweb = pd.read_csv(\"uniiweb.csv\")\n",
    "with open('wordlist2.txt', 'r', encoding='utf-8') as file:\n",
    "    wordlist = file.readlines()\n",
    "wordlist= [wordlist.rstrip('\\n') for wordlist in wordlist] \n",
    "wordlist = pd.Series(wordlist)"
   ]
  },
  {
   "cell_type": "code",
   "execution_count": 11,
   "id": "cf14200c-e35c-4bae-855e-fd6564317bbd",
   "metadata": {},
   "outputs": [],
   "source": [
    "import pandas as pd\n",
    "\n",
    "def modify_and_filter_pandas(a, b):\n",
    "    df_a = pd.Series(a)\n",
    "    df_b = pd.Series(b)\n",
    "\n",
    "    set_a = set(df_a)\n",
    "\n",
    "    def transform_and_filter(item):\n",
    "        if item in set_a:\n",
    "            return item\n",
    "        item_str = str(item)\n",
    "        capitalized_item = item_str.capitalize()\n",
    "        if capitalized_item in set_a:\n",
    "            return capitalized_item\n",
    "        upper_item = item_str.upper()\n",
    "        if upper_item in set_a:\n",
    "            return upper_item\n",
    "        return None\n",
    "\n",
    "    result = df_b.apply(transform_and_filter)\n",
    "    return result.dropna().tolist()\n",
    "\n",
    "# 示例用法\n",
    "#a = [\"10000 foot view\", \"10000-foot-view\", \"Link 和0800 number\", \"0800-number\", \"Link hr\"]\n",
    "#b = [\"10000 foot view\", \"link 和0800 number\", \"0800-number\", \"link hr\", \"unknown element\"]\n",
    "\n",
    "# 使用包含大数据集的示例\n",
    "# a = [f\"item{i}\" for i in range(1000000)]\n",
    "# b = [f\"item{i}\" for i in range(100000)] + [\"unknown element\"]\n",
    "\n",
    "result = modify_and_filter_pandas(wordlist, cefr[\"Base Word\"])\n",
    "result = list(set(result))\n",
    "with open(\"filtered_cefr.txt\", \"w\",encoding=\"utf-8\") as f:\n",
    "    f.write(\"\\n\".join(result))"
   ]
  },
  {
   "cell_type": "code",
   "execution_count": null,
   "id": "249497cb-8d10-45fa-a549-5668cca60419",
   "metadata": {},
   "outputs": [],
   "source": []
  },
  {
   "cell_type": "code",
   "execution_count": 28,
   "id": "91fc7724-92a9-4ff4-b1ae-02625e086ea3",
   "metadata": {},
   "outputs": [],
   "source": [
    "# def find_differences(a, b):\n",
    "#     set_a = set(a)\n",
    "#     set_b = set(b)\n",
    "\n",
    "#     # 找到在a中但不在b中的元素\n",
    "#     diff_a_to_b = set_a - set_b\n",
    "#     # 找到在b中但不在a中的元素\n",
    "#     diff_b_to_a = set_b - set_a\n",
    "\n",
    "#     return list(diff_a_to_b), list(diff_b_to_a)\n",
    "\n",
    "# with open('google.csv', 'r', encoding='utf-8') as file:\n",
    "#     g = file.readlines()\n",
    "# g= [g.rstrip('\\n') for g in g] \n",
    "# diff_a_to_b, diff_b_to_a = find_differences(g, result)\n",
    "\n",
    "# print(\"在a中但不在b中的元素:\")\n",
    "# for item in diff_a_to_b:\n",
    "#     print(item)"
   ]
  },
  {
   "cell_type": "code",
   "execution_count": 35,
   "id": "2fb1acf4-ba52-441d-86ee-02713c0b64c6",
   "metadata": {},
   "outputs": [],
   "source": [
    "aaa = \"auk\"\n"
   ]
  },
  {
   "cell_type": "code",
   "execution_count": 36,
   "id": "bd3cc1b1-d9b2-46d2-95a8-930387b0477b",
   "metadata": {},
   "outputs": [
    {
     "data": {
      "text/plain": [
       "'Auk'"
      ]
     },
     "execution_count": 36,
     "metadata": {},
     "output_type": "execute_result"
    }
   ],
   "source": [
    "aaa.capitalize()"
   ]
  },
  {
   "cell_type": "code",
   "execution_count": null,
   "id": "44b12295-d929-472d-a150-692db466c84d",
   "metadata": {},
   "outputs": [],
   "source": [
    "        capitalized_item = item.capitalize()\n",
    "        if capitalized_item in set_a:\n",
    "            return capitalized_item\n",
    "        upper_item = item.upper()"
   ]
  },
  {
   "cell_type": "code",
   "execution_count": 5,
   "id": "35b0fadf-d891-43a3-8335-414a4c4b8247",
   "metadata": {},
   "outputs": [
    {
     "data": {
      "text/html": [
       "<div>\n",
       "<style scoped>\n",
       "    .dataframe tbody tr th:only-of-type {\n",
       "        vertical-align: middle;\n",
       "    }\n",
       "\n",
       "    .dataframe tbody tr th {\n",
       "        vertical-align: top;\n",
       "    }\n",
       "\n",
       "    .dataframe thead th {\n",
       "        text-align: right;\n",
       "    }\n",
       "</style>\n",
       "<table border=\"1\" class=\"dataframe\">\n",
       "  <thead>\n",
       "    <tr style=\"text-align: right;\">\n",
       "      <th></th>\n",
       "      <th>0</th>\n",
       "    </tr>\n",
       "  </thead>\n",
       "  <tbody>\n",
       "    <tr>\n",
       "      <th>0</th>\n",
       "      <td>the</td>\n",
       "    </tr>\n",
       "    <tr>\n",
       "      <th>1</th>\n",
       "      <td>be</td>\n",
       "    </tr>\n",
       "    <tr>\n",
       "      <th>2</th>\n",
       "      <td>and</td>\n",
       "    </tr>\n",
       "    <tr>\n",
       "      <th>3</th>\n",
       "      <td>of</td>\n",
       "    </tr>\n",
       "    <tr>\n",
       "      <th>4</th>\n",
       "      <td>a</td>\n",
       "    </tr>\n",
       "    <tr>\n",
       "      <th>...</th>\n",
       "      <td>...</td>\n",
       "    </tr>\n",
       "    <tr>\n",
       "      <th>47295</th>\n",
       "      <td>hecatomb</td>\n",
       "    </tr>\n",
       "    <tr>\n",
       "      <th>47296</th>\n",
       "      <td>sideslip</td>\n",
       "    </tr>\n",
       "    <tr>\n",
       "      <th>47297</th>\n",
       "      <td>gaoler</td>\n",
       "    </tr>\n",
       "    <tr>\n",
       "      <th>47298</th>\n",
       "      <td>carcinoid</td>\n",
       "    </tr>\n",
       "    <tr>\n",
       "      <th>47299</th>\n",
       "      <td>tonus</td>\n",
       "    </tr>\n",
       "  </tbody>\n",
       "</table>\n",
       "<p>47300 rows × 1 columns</p>\n",
       "</div>"
      ],
      "text/plain": [
       "               0\n",
       "0            the\n",
       "1             be\n",
       "2            and\n",
       "3             of\n",
       "4              a\n",
       "...          ...\n",
       "47295   hecatomb\n",
       "47296   sideslip\n",
       "47297     gaoler\n",
       "47298  carcinoid\n",
       "47299      tonus\n",
       "\n",
       "[47300 rows x 1 columns]"
      ]
     },
     "execution_count": 5,
     "metadata": {},
     "output_type": "execute_result"
    }
   ],
   "source": [
    "data = pd.read_csv('47kfiltered_unicoca60k.txt',header=None)\n",
    "data "
   ]
  },
  {
   "cell_type": "code",
   "execution_count": 1,
   "id": "89a1b59c-088a-4dee-806c-37d393cf3dd2",
   "metadata": {},
   "outputs": [],
   "source": [
    "import pandas as pd"
   ]
  },
  {
   "cell_type": "code",
   "execution_count": 6,
   "id": "ec2e79ba-a6b6-432b-b0b4-0578fc0802f2",
   "metadata": {},
   "outputs": [
    {
     "data": {
      "text/html": [
       "<div>\n",
       "<style scoped>\n",
       "    .dataframe tbody tr th:only-of-type {\n",
       "        vertical-align: middle;\n",
       "    }\n",
       "\n",
       "    .dataframe tbody tr th {\n",
       "        vertical-align: top;\n",
       "    }\n",
       "\n",
       "    .dataframe thead th {\n",
       "        text-align: right;\n",
       "    }\n",
       "</style>\n",
       "<table border=\"1\" class=\"dataframe\">\n",
       "  <thead>\n",
       "    <tr style=\"text-align: right;\">\n",
       "      <th></th>\n",
       "      <th>0</th>\n",
       "    </tr>\n",
       "  </thead>\n",
       "  <tbody>\n",
       "    <tr>\n",
       "      <th>0</th>\n",
       "      <td>eighty</td>\n",
       "    </tr>\n",
       "    <tr>\n",
       "      <th>1</th>\n",
       "      <td>arrange</td>\n",
       "    </tr>\n",
       "    <tr>\n",
       "      <th>2</th>\n",
       "      <td>badness</td>\n",
       "    </tr>\n",
       "    <tr>\n",
       "      <th>3</th>\n",
       "      <td>metallurgy</td>\n",
       "    </tr>\n",
       "    <tr>\n",
       "      <th>4</th>\n",
       "      <td>tippet</td>\n",
       "    </tr>\n",
       "    <tr>\n",
       "      <th>...</th>\n",
       "      <td>...</td>\n",
       "    </tr>\n",
       "    <tr>\n",
       "      <th>47295</th>\n",
       "      <td>lane</td>\n",
       "    </tr>\n",
       "    <tr>\n",
       "      <th>47296</th>\n",
       "      <td>contextually</td>\n",
       "    </tr>\n",
       "    <tr>\n",
       "      <th>47297</th>\n",
       "      <td>megalithic</td>\n",
       "    </tr>\n",
       "    <tr>\n",
       "      <th>47298</th>\n",
       "      <td>seatwork</td>\n",
       "    </tr>\n",
       "    <tr>\n",
       "      <th>47299</th>\n",
       "      <td>hemoglobin</td>\n",
       "    </tr>\n",
       "  </tbody>\n",
       "</table>\n",
       "<p>47300 rows × 1 columns</p>\n",
       "</div>"
      ],
      "text/plain": [
       "                  0\n",
       "0            eighty\n",
       "1           arrange\n",
       "2           badness\n",
       "3        metallurgy\n",
       "4            tippet\n",
       "...             ...\n",
       "47295          lane\n",
       "47296  contextually\n",
       "47297    megalithic\n",
       "47298      seatwork\n",
       "47299    hemoglobin\n",
       "\n",
       "[47300 rows x 1 columns]"
      ]
     },
     "execution_count": 6,
     "metadata": {},
     "output_type": "execute_result"
    }
   ],
   "source": [
    "data = list(set (data[0]))\n",
    "data = pd.DataFrame(data)\n",
    "data"
   ]
  },
  {
   "cell_type": "code",
   "execution_count": null,
   "id": "0f527c79-980a-494c-a16a-e912b6f57a84",
   "metadata": {},
   "outputs": [],
   "source": []
  }
 ],
 "metadata": {
  "kernelspec": {
   "display_name": "Python 3 (ipykernel)",
   "language": "python",
   "name": "python3"
  },
  "language_info": {
   "codemirror_mode": {
    "name": "ipython",
    "version": 3
   },
   "file_extension": ".py",
   "mimetype": "text/x-python",
   "name": "python",
   "nbconvert_exporter": "python",
   "pygments_lexer": "ipython3",
   "version": "3.9.7"
  }
 },
 "nbformat": 4,
 "nbformat_minor": 5
}
