{
 "cells": [
  {
   "cell_type": "code",
   "execution_count": 2,
   "id": "e8d0b2f7-9053-4e8b-b4ee-3e1196654426",
   "metadata": {},
   "outputs": [],
   "source": [
    "from bs4 import BeautifulSoup\n",
    "\n",
    "# 假设HTML内容保存在一个文件中\n",
    "with open('ode_glance_t.html', 'r', encoding='utf-8') as file:\n",
    "    html_content = file.read()\n",
    "\n",
    "# 使用BeautifulSoup解析HTML\n",
    "soup = BeautifulSoup(html_content, 'html.parser')\n",
    "\n",
    "# 查找所有class为realTitle的span标签\n",
    "real_titles = soup.find_all('span', class_='realTitle')\n",
    "\n",
    "# 提取每个span标签的text并存到一个列表中\n",
    "texts = [title.get_text() for title in real_titles]\n",
    "\n",
    "# 将文本每行一个写入txt文件\n",
    "with open('output.txt', 'w', encoding='utf-8') as output_file:\n",
    "    for text in texts:\n",
    "        output_file.write(text + '\\n')"
   ]
  },
  {
   "cell_type": "code",
   "execution_count": 20,
   "id": "aa385ade-6132-40dc-94a2-f21cfab334bb",
   "metadata": {},
   "outputs": [],
   "source": [
    "import re\n",
    "\n",
    "def extract_and_store(file_path):\n",
    "    result = []\n",
    "\n",
    "    # 打开文件并逐行读取\n",
    "    with open(file_path, 'r', encoding='utf-8') as file:\n",
    "        for line in file:\n",
    "            # 使用正则表达式分割行内容\n",
    "            parts = re.split(r'<', line, 1)\n",
    "            # 获取第一个部分并去除末尾的空格\n",
    "            content = parts[0].rstrip()\n",
    "            # 将结果添加到列表中\n",
    "            result.append(content)\n",
    "\n",
    "    return result\n",
    "\n",
    "# 示例用法\n",
    "file_path = 'LDOCE6EC.txt'\n",
    "result = extract_and_store(file_path)\n",
    "\n",
    "with open(\"LDOCE6EC_list.txt\", \"w\",encoding=\"utf-8\") as f:\n",
    "    f.write(\"\\n\".join(result))\n"
   ]
  },
  {
   "cell_type": "code",
   "execution_count": 21,
   "id": "9a05eedc-1e33-4298-9e8b-79e3974f6b7b",
   "metadata": {},
   "outputs": [],
   "source": [
    "def split_and_clean(input_list):\n",
    "    result = []\n",
    "\n",
    "    for item in input_list:\n",
    "        # 分割元素，去除'|'符号\n",
    "        parts = item.split('|')\n",
    "        # 将分割后的每个部分添加到结果列表中\n",
    "        result.extend(parts)\n",
    "\n",
    "    return result\n",
    "\n",
    "\n",
    "with open(\"LDOCE6EC_list.txt\", 'r', encoding='utf-8') as file:\n",
    "    data = [data.strip() for data in file]\n",
    "    \n",
    "data = split_and_clean(data)    \n",
    "\n",
    "data = list(set(data))      \n",
    "with open(\"LDOCE6EC_list2.txt\", \"w\",encoding=\"utf-8\") as f:\n",
    "    f.write(\"\\n\".join(data))\n",
    "\n",
    "\n"
   ]
  },
  {
   "cell_type": "code",
   "execution_count": 4,
   "id": "40f63701-5a55-4484-9140-d01558b08d04",
   "metadata": {},
   "outputs": [],
   "source": [
    "import re\n",
    "\n",
    "# 读取HTML文件内容\n",
    "with open('ode_glance.txt', 'r', encoding='utf-8') as file:\n",
    "    html_content = file.read()\n",
    "\n",
    "# 使用正则表达式匹配class为realTitle的span标签的内容\n",
    "pattern = r'<span class=\"realTitle\" syllable=\".*?\">(.*?)</span>'\n",
    "matches = re.findall(pattern, html_content)\n",
    "\n",
    "# 将匹配到的内容每行一个写入txt文件\n",
    "with open('output.txt', 'w', encoding='utf-8') as output_file:\n",
    "    for match in matches:\n",
    "        output_file.write(match + '\\n')\n"
   ]
  },
  {
   "cell_type": "code",
   "execution_count": 6,
   "id": "e3926ec7-e122-4b0b-a51a-9d97d1ce0e70",
   "metadata": {},
   "outputs": [],
   "source": [
    "with open('output.txt', 'r', encoding='utf-8') as file:\n",
    "    data = file.read()\n",
    "data = list(set(data))  \n",
    "with open(\"ode_list.txt\", \"w\",encoding=\"utf-8\") as f:\n",
    "  f.write(\"\\n\".join(data))"
   ]
  },
  {
   "cell_type": "code",
   "execution_count": 10,
   "id": "6e963650-e549-4a1a-89a1-71a927622cf2",
   "metadata": {},
   "outputs": [],
   "source": [
    "with open(\"output.txt\", 'r', encoding='utf-8') as file:\n",
    "    data = [data.strip() for data in file]\n",
    "data = list(set(data))      \n",
    "with open(\"ode_list.txt\", \"w\",encoding=\"utf-8\") as f:\n",
    "    f.write(\"\\n\".join(data))"
   ]
  },
  {
   "cell_type": "code",
   "execution_count": 1,
   "id": "acc5cc2a-2f5d-4b9c-9e7c-9f0f80b2a388",
   "metadata": {},
   "outputs": [],
   "source": [
    "import re\n",
    "import pandas as pd\n",
    "import openpyxl\n",
    "import xlrd\n",
    "\n",
    "\n",
    "with open('ahd2024_list2.txt', 'r', encoding='utf-8') as file:\n",
    "    file = file.readlines()\n",
    "ahd= [file.rstrip('\\n') for file in file] \n",
    "with open('camenew_list2.txt', 'r', encoding='utf-8') as file:\n",
    "    file = file.readlines()\n",
    "cam= [file.rstrip('\\n') for file in file] \n",
    "with open('LDOCE6EC_list2.txt', 'r', encoding='utf-8') as file:\n",
    "    file = file.readlines()\n",
    "lm = [file.rstrip('\\n') for file in file] \n",
    "with open('maldpe_list2.txt', 'r', encoding='utf-8') as file:\n",
    "    file = file.readlines()\n",
    "mal = [file.rstrip('\\n') for file in file] \n",
    "with open('ode_list.txt', 'r', encoding='utf-8') as file:\n",
    "    file = file.readlines()\n",
    "ode = [file.rstrip('\\n') for file in file] \n",
    "with open('english_words_1000000.txt', 'r', encoding='utf-8') as file:\n",
    "    file = file.readlines()\n",
    "words100w = [file.rstrip('\\n') for file in file] "
   ]
  },
  {
   "cell_type": "code",
   "execution_count": 2,
   "id": "a997a343-96cd-4c2b-abb9-c47de0d62773",
   "metadata": {},
   "outputs": [],
   "source": [
    "wordlist = list(set(ahd + cam + lm + mal  + ode))  \n",
    "#stage2 = pd.DataFrame(stage2,)\n",
    "with open(\"wordlist2.txt\", \"w\",encoding=\"utf-8\") as f:\n",
    "  f.write(\"\\n\".join(wordlist))"
   ]
  },
  {
   "cell_type": "code",
   "execution_count": null,
   "id": "4f562271-7602-4d10-b9f5-b62619c5cdd4",
   "metadata": {},
   "outputs": [],
   "source": [
    "Oxford 5000.txt"
   ]
  },
  {
   "cell_type": "code",
   "execution_count": 4,
   "id": "ac24631d-927d-4a24-abf5-ce76155af39a",
   "metadata": {},
   "outputs": [],
   "source": [
    "import re\n",
    "def extract_and_store(file_path):\n",
    "    result = []\n",
    "\n",
    "    # 打开文件并逐行读取\n",
    "    with open(file_path, 'r', encoding='utf-8') as file:\n",
    "        for line in file:\n",
    "            # 使用正则表达式分割行内容\n",
    "            parts = re.split(r' ', line, 1)\n",
    "            # 获取第一个部分并去除末尾的空格\n",
    "            content = parts[0].rstrip()\n",
    "            # 将结果添加到列表中\n",
    "            result.append(content)\n",
    "\n",
    "    return result\n",
    "\n",
    "# 示例用法\n",
    "file_path = 'Oxford 5000.txt'\n",
    "result = extract_and_store(file_path)\n",
    "\n",
    "with open(\"Oxford5000.txt\", \"w\",encoding=\"utf-8\") as f:\n",
    "    f.write(\"\\n\".join(result))\n"
   ]
  },
  {
   "cell_type": "code",
   "execution_count": null,
   "id": "f8e68568-0f5c-4e63-a6cf-b289276de491",
   "metadata": {},
   "outputs": [],
   "source": []
  },
  {
   "cell_type": "code",
   "execution_count": null,
   "id": "e62c29a7-50a7-4140-a72f-da093a659549",
   "metadata": {},
   "outputs": [],
   "source": []
  },
  {
   "cell_type": "code",
   "execution_count": null,
   "id": "6c7ac030-0103-4b74-a20f-19b2b02ad023",
   "metadata": {},
   "outputs": [],
   "source": []
  }
 ],
 "metadata": {
  "kernelspec": {
   "display_name": "Python 3 (ipykernel)",
   "language": "python",
   "name": "python3"
  },
  "language_info": {
   "codemirror_mode": {
    "name": "ipython",
    "version": 3
   },
   "file_extension": ".py",
   "mimetype": "text/x-python",
   "name": "python",
   "nbconvert_exporter": "python",
   "pygments_lexer": "ipython3",
   "version": "3.9.7"
  }
 },
 "nbformat": 4,
 "nbformat_minor": 5
}
