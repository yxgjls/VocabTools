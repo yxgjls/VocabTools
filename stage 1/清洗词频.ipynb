{
 "cells": [
  {
   "cell_type": "code",
   "execution_count": 1,
   "id": "09655eba-2e82-476e-a834-6e2cdb1507e9",
   "metadata": {},
   "outputs": [],
   "source": [
    "import pandas as pd"
   ]
  },
  {
   "cell_type": "markdown",
   "id": "a3ed10bc-4f2f-44e9-9367-f8eeed5f6bfd",
   "metadata": {},
   "source": [
    "## 词频去重"
   ]
  },
  {
   "cell_type": "code",
   "execution_count": 5,
   "id": "8b006856-289a-4c3c-a184-14a9bd7a2e75",
   "metadata": {},
   "outputs": [
    {
     "data": {
      "text/html": [
       "<div>\n",
       "<style scoped>\n",
       "    .dataframe tbody tr th:only-of-type {\n",
       "        vertical-align: middle;\n",
       "    }\n",
       "\n",
       "    .dataframe tbody tr th {\n",
       "        vertical-align: top;\n",
       "    }\n",
       "\n",
       "    .dataframe thead th {\n",
       "        text-align: right;\n",
       "    }\n",
       "</style>\n",
       "<table border=\"1\" class=\"dataframe\">\n",
       "  <thead>\n",
       "    <tr style=\"text-align: right;\">\n",
       "      <th></th>\n",
       "      <th>0</th>\n",
       "    </tr>\n",
       "  </thead>\n",
       "  <tbody>\n",
       "    <tr>\n",
       "      <th>0</th>\n",
       "      <td>the</td>\n",
       "    </tr>\n",
       "    <tr>\n",
       "      <th>1</th>\n",
       "      <td>of</td>\n",
       "    </tr>\n",
       "    <tr>\n",
       "      <th>2</th>\n",
       "      <td>and</td>\n",
       "    </tr>\n",
       "    <tr>\n",
       "      <th>3</th>\n",
       "      <td>to</td>\n",
       "    </tr>\n",
       "    <tr>\n",
       "      <th>4</th>\n",
       "      <td>in</td>\n",
       "    </tr>\n",
       "    <tr>\n",
       "      <th>...</th>\n",
       "      <td>...</td>\n",
       "    </tr>\n",
       "    <tr>\n",
       "      <th>458336</th>\n",
       "      <td>zymurgic</td>\n",
       "    </tr>\n",
       "    <tr>\n",
       "      <th>458337</th>\n",
       "      <td>zymurgies</td>\n",
       "    </tr>\n",
       "    <tr>\n",
       "      <th>458338</th>\n",
       "      <td>zythem</td>\n",
       "    </tr>\n",
       "    <tr>\n",
       "      <th>458339</th>\n",
       "      <td>zythums</td>\n",
       "    </tr>\n",
       "    <tr>\n",
       "      <th>458340</th>\n",
       "      <td>zyzzyvas</td>\n",
       "    </tr>\n",
       "  </tbody>\n",
       "</table>\n",
       "<p>458341 rows × 1 columns</p>\n",
       "</div>"
      ],
      "text/plain": [
       "                0\n",
       "0             the\n",
       "1              of\n",
       "2             and\n",
       "3              to\n",
       "4              in\n",
       "...           ...\n",
       "458336   zymurgic\n",
       "458337  zymurgies\n",
       "458338     zythem\n",
       "458339    zythums\n",
       "458340   zyzzyvas\n",
       "\n",
       "[458341 rows x 1 columns]"
      ]
     },
     "execution_count": 5,
     "metadata": {},
     "output_type": "execute_result"
    }
   ],
   "source": [
    "google = pd.read_csv(\"./google.csv\",header=None)\n",
    "#google = google.drop_duplicates()\n",
    "google"
   ]
  },
  {
   "cell_type": "code",
   "execution_count": 13,
   "id": "62b72b11-cf0b-47a4-b75e-7efd93c29067",
   "metadata": {},
   "outputs": [],
   "source": [
    "coca60k = pd.read_csv(\"./coca60k.txt\",header=None)\n",
    "coca60k.drop_duplicates().to_csv(\"unicoca60k.csv\", index = False)"
   ]
  },
  {
   "cell_type": "code",
   "execution_count": 14,
   "id": "7f9a8544-0163-4666-b0e1-1c69a95bb533",
   "metadata": {},
   "outputs": [],
   "source": [
    "iweb = pd.read_csv(\"./iweb.csv\",header=None)\n",
    "iweb.drop_duplicates().to_csv(\"uniiweb.csv\", index = False)"
   ]
  },
  {
   "cell_type": "code",
   "execution_count": 9,
   "id": "bb98bd8d-7e39-4c8f-b5a2-7004e935beff",
   "metadata": {},
   "outputs": [
    {
     "data": {
      "text/html": [
       "<div>\n",
       "<style scoped>\n",
       "    .dataframe tbody tr th:only-of-type {\n",
       "        vertical-align: middle;\n",
       "    }\n",
       "\n",
       "    .dataframe tbody tr th {\n",
       "        vertical-align: top;\n",
       "    }\n",
       "\n",
       "    .dataframe thead th {\n",
       "        text-align: right;\n",
       "    }\n",
       "</style>\n",
       "<table border=\"1\" class=\"dataframe\">\n",
       "  <thead>\n",
       "    <tr style=\"text-align: right;\">\n",
       "      <th></th>\n",
       "      <th>0</th>\n",
       "    </tr>\n",
       "  </thead>\n",
       "  <tbody>\n",
       "    <tr>\n",
       "      <th>0</th>\n",
       "      <td>Word</td>\n",
       "    </tr>\n",
       "    <tr>\n",
       "      <th>1</th>\n",
       "      <td>the</td>\n",
       "    </tr>\n",
       "    <tr>\n",
       "      <th>2</th>\n",
       "      <td>to</td>\n",
       "    </tr>\n",
       "    <tr>\n",
       "      <th>3</th>\n",
       "      <td>a</td>\n",
       "    </tr>\n",
       "    <tr>\n",
       "      <th>4</th>\n",
       "      <td>you</td>\n",
       "    </tr>\n",
       "    <tr>\n",
       "      <th>...</th>\n",
       "      <td>...</td>\n",
       "    </tr>\n",
       "    <tr>\n",
       "      <th>74281</th>\n",
       "      <td>Zoroastrian</td>\n",
       "    </tr>\n",
       "    <tr>\n",
       "      <th>74282</th>\n",
       "      <td>Zoroastrianism</td>\n",
       "    </tr>\n",
       "    <tr>\n",
       "      <th>74283</th>\n",
       "      <td>zugzwang</td>\n",
       "    </tr>\n",
       "    <tr>\n",
       "      <th>74284</th>\n",
       "      <td>zygotes</td>\n",
       "    </tr>\n",
       "    <tr>\n",
       "      <th>74285</th>\n",
       "      <td>zymurgy</td>\n",
       "    </tr>\n",
       "  </tbody>\n",
       "</table>\n",
       "<p>74286 rows × 1 columns</p>\n",
       "</div>"
      ],
      "text/plain": [
       "                    0\n",
       "0                Word\n",
       "1                 the\n",
       "2                  to\n",
       "3                   a\n",
       "4                 you\n",
       "...               ...\n",
       "74281     Zoroastrian\n",
       "74282  Zoroastrianism\n",
       "74283        zugzwang\n",
       "74284         zygotes\n",
       "74285         zymurgy\n",
       "\n",
       "[74286 rows x 1 columns]"
      ]
     },
     "execution_count": 9,
     "metadata": {},
     "output_type": "execute_result"
    }
   ],
   "source": [
    "SUBTLEXus = pd.read_csv(\"./SUBTLEXus.csv\",header=None)\n",
    "#SUBTLEXus = SUBTLEXus.drop_duplicates()\n",
    "SUBTLEXus"
   ]
  },
  {
   "cell_type": "code",
   "execution_count": 15,
   "id": "9e73e01c-17a5-4f44-b56c-115feabd85a3",
   "metadata": {},
   "outputs": [],
   "source": [
    "bnc = pd.read_csv(\"./bnc.csv\",header=None, encoding='latin1')\n",
    "bnc.drop_duplicates().to_csv(\"unibnc.csv\", index = False)"
   ]
  },
  {
   "cell_type": "code",
   "execution_count": 12,
   "id": "0dac1bb9-4390-4d10-9246-4cd149dda877",
   "metadata": {},
   "outputs": [
    {
     "data": {
      "text/html": [
       "<div>\n",
       "<style scoped>\n",
       "    .dataframe tbody tr th:only-of-type {\n",
       "        vertical-align: middle;\n",
       "    }\n",
       "\n",
       "    .dataframe tbody tr th {\n",
       "        vertical-align: top;\n",
       "    }\n",
       "\n",
       "    .dataframe thead th {\n",
       "        text-align: right;\n",
       "    }\n",
       "</style>\n",
       "<table border=\"1\" class=\"dataframe\">\n",
       "  <thead>\n",
       "    <tr style=\"text-align: right;\">\n",
       "      <th></th>\n",
       "      <th>0</th>\n",
       "    </tr>\n",
       "  </thead>\n",
       "  <tbody>\n",
       "    <tr>\n",
       "      <th>0</th>\n",
       "      <td>a</td>\n",
       "    </tr>\n",
       "    <tr>\n",
       "      <th>1</th>\n",
       "      <td>a-</td>\n",
       "    </tr>\n",
       "    <tr>\n",
       "      <th>2</th>\n",
       "      <td>a1</td>\n",
       "    </tr>\n",
       "    <tr>\n",
       "      <th>3</th>\n",
       "      <td>a2 (level)</td>\n",
       "    </tr>\n",
       "    <tr>\n",
       "      <th>4</th>\n",
       "      <td>aa</td>\n",
       "    </tr>\n",
       "    <tr>\n",
       "      <th>...</th>\n",
       "      <td>...</td>\n",
       "    </tr>\n",
       "    <tr>\n",
       "      <th>49795</th>\n",
       "      <td>émigré</td>\n",
       "    </tr>\n",
       "    <tr>\n",
       "      <th>49796</th>\n",
       "      <td>éminence grise</td>\n",
       "    </tr>\n",
       "    <tr>\n",
       "      <th>49797</th>\n",
       "      <td>épée</td>\n",
       "    </tr>\n",
       "    <tr>\n",
       "      <th>49798</th>\n",
       "      <td>über-</td>\n",
       "    </tr>\n",
       "    <tr>\n",
       "      <th>49799</th>\n",
       "      <td>A</td>\n",
       "    </tr>\n",
       "  </tbody>\n",
       "</table>\n",
       "<p>49800 rows × 1 columns</p>\n",
       "</div>"
      ],
      "text/plain": [
       "                    0\n",
       "0                   a\n",
       "1                  a-\n",
       "2                  a1\n",
       "3          a2 (level)\n",
       "4                  aa\n",
       "...               ...\n",
       "49795          émigré\n",
       "49796  éminence grise\n",
       "49797            épée\n",
       "49798           über-\n",
       "49799               A\n",
       "\n",
       "[49800 rows x 1 columns]"
      ]
     },
     "execution_count": 12,
     "metadata": {},
     "output_type": "execute_result"
    }
   ],
   "source": [
    "oacald = pd.read_csv(\"./oacald.csv\",header=None)\n",
    "#oacald = oacald.drop_duplicates()\n",
    "oacald"
   ]
  },
  {
   "cell_type": "code",
   "execution_count": 17,
   "id": "9969d25d-5e12-463f-9d01-ae8db0a15b26",
   "metadata": {},
   "outputs": [
    {
     "data": {
      "text/html": [
       "<div>\n",
       "<style scoped>\n",
       "    .dataframe tbody tr th:only-of-type {\n",
       "        vertical-align: middle;\n",
       "    }\n",
       "\n",
       "    .dataframe tbody tr th {\n",
       "        vertical-align: top;\n",
       "    }\n",
       "\n",
       "    .dataframe thead th {\n",
       "        text-align: right;\n",
       "    }\n",
       "</style>\n",
       "<table border=\"1\" class=\"dataframe\">\n",
       "  <thead>\n",
       "    <tr style=\"text-align: right;\">\n",
       "      <th></th>\n",
       "      <th>a</th>\n",
       "    </tr>\n",
       "  </thead>\n",
       "  <tbody>\n",
       "    <tr>\n",
       "      <th>0</th>\n",
       "      <td>abandon</td>\n",
       "    </tr>\n",
       "    <tr>\n",
       "      <th>1</th>\n",
       "      <td>ability</td>\n",
       "    </tr>\n",
       "    <tr>\n",
       "      <th>2</th>\n",
       "      <td>able</td>\n",
       "    </tr>\n",
       "    <tr>\n",
       "      <th>3</th>\n",
       "      <td>about</td>\n",
       "    </tr>\n",
       "    <tr>\n",
       "      <th>4</th>\n",
       "      <td>above</td>\n",
       "    </tr>\n",
       "    <tr>\n",
       "      <th>...</th>\n",
       "      <td>...</td>\n",
       "    </tr>\n",
       "    <tr>\n",
       "      <th>3162</th>\n",
       "      <td>your</td>\n",
       "    </tr>\n",
       "    <tr>\n",
       "      <th>3163</th>\n",
       "      <td>yours</td>\n",
       "    </tr>\n",
       "    <tr>\n",
       "      <th>3164</th>\n",
       "      <td>yourself</td>\n",
       "    </tr>\n",
       "    <tr>\n",
       "      <th>3165</th>\n",
       "      <td>youth</td>\n",
       "    </tr>\n",
       "    <tr>\n",
       "      <th>3166</th>\n",
       "      <td>zone</td>\n",
       "    </tr>\n",
       "  </tbody>\n",
       "</table>\n",
       "<p>3167 rows × 1 columns</p>\n",
       "</div>"
      ],
      "text/plain": [
       "             a \n",
       "0      abandon \n",
       "1      ability \n",
       "2         able \n",
       "3        about \n",
       "4        above \n",
       "...         ...\n",
       "3162      your \n",
       "3163     yours \n",
       "3164  yourself \n",
       "3165     youth \n",
       "3166       zone\n",
       "\n",
       "[3167 rows x 1 columns]"
      ]
     },
     "execution_count": 17,
     "metadata": {},
     "output_type": "execute_result"
    }
   ],
   "source": [
    "import openpyxl\n",
    "import xlrd\n",
    "lm3k = pd.read_excel(\"./lm3k.xlsx\")\n",
    "lm3k"
   ]
  },
  {
   "cell_type": "code",
   "execution_count": 19,
   "id": "4489e0be-0558-41a2-9854-35dff4ae7410",
   "metadata": {},
   "outputs": [
    {
     "data": {
      "text/html": [
       "<div>\n",
       "<style scoped>\n",
       "    .dataframe tbody tr th:only-of-type {\n",
       "        vertical-align: middle;\n",
       "    }\n",
       "\n",
       "    .dataframe tbody tr th {\n",
       "        vertical-align: top;\n",
       "    }\n",
       "\n",
       "    .dataframe thead th {\n",
       "        text-align: right;\n",
       "    }\n",
       "</style>\n",
       "<table border=\"1\" class=\"dataframe\">\n",
       "  <thead>\n",
       "    <tr style=\"text-align: right;\">\n",
       "      <th></th>\n",
       "      <th>0</th>\n",
       "    </tr>\n",
       "  </thead>\n",
       "  <tbody>\n",
       "    <tr>\n",
       "      <th>0</th>\n",
       "      <td>a</td>\n",
       "    </tr>\n",
       "    <tr>\n",
       "      <th>1</th>\n",
       "      <td>abandon</td>\n",
       "    </tr>\n",
       "    <tr>\n",
       "      <th>2</th>\n",
       "      <td>abandoned</td>\n",
       "    </tr>\n",
       "    <tr>\n",
       "      <th>3</th>\n",
       "      <td>ability</td>\n",
       "    </tr>\n",
       "    <tr>\n",
       "      <th>4</th>\n",
       "      <td>able</td>\n",
       "    </tr>\n",
       "    <tr>\n",
       "      <th>...</th>\n",
       "      <td>...</td>\n",
       "    </tr>\n",
       "    <tr>\n",
       "      <th>3842</th>\n",
       "      <td>yours</td>\n",
       "    </tr>\n",
       "    <tr>\n",
       "      <th>3843</th>\n",
       "      <td>yourself</td>\n",
       "    </tr>\n",
       "    <tr>\n",
       "      <th>3844</th>\n",
       "      <td>youth</td>\n",
       "    </tr>\n",
       "    <tr>\n",
       "      <th>3845</th>\n",
       "      <td>zero</td>\n",
       "    </tr>\n",
       "    <tr>\n",
       "      <th>3846</th>\n",
       "      <td>zone</td>\n",
       "    </tr>\n",
       "  </tbody>\n",
       "</table>\n",
       "<p>3847 rows × 1 columns</p>\n",
       "</div>"
      ],
      "text/plain": [
       "              0\n",
       "0             a\n",
       "1       abandon\n",
       "2     abandoned\n",
       "3       ability\n",
       "4          able\n",
       "...         ...\n",
       "3842      yours\n",
       "3843   yourself\n",
       "3844      youth\n",
       "3845       zero\n",
       "3846       zone\n",
       "\n",
       "[3847 rows x 1 columns]"
      ]
     },
     "execution_count": 19,
     "metadata": {},
     "output_type": "execute_result"
    }
   ],
   "source": [
    "of3k = pd.read_csv(\"./of3k.txt\",header=None)\n",
    "of3k"
   ]
  },
  {
   "cell_type": "code",
   "execution_count": 2,
   "id": "cac9b391-77f5-4ee8-97a1-94d298964a23",
   "metadata": {},
   "outputs": [],
   "source": [
    "from collections import OrderedDict"
   ]
  },
  {
   "cell_type": "code",
   "execution_count": 29,
   "id": "00c3c4ae-548c-46d7-b54d-c887c225b08a",
   "metadata": {},
   "outputs": [],
   "source": [
    "def filter_word_list(list_a, list_b):\n",
    "    # 将list_a转换为集合，便于快速查找\n",
    "    set_a = set(list_a)\n",
    "    \n",
    "    # 过滤list_b，只保留存在于set_a中的词条\n",
    "    filtered_list_b = [word for word in list_b if word in set_a]\n",
    "    \n",
    "    return filtered_list_b"
   ]
  },
  {
   "cell_type": "code",
   "execution_count": 2,
   "id": "d3896f7e-0730-4450-a553-7077e2082c7d",
   "metadata": {},
   "outputs": [],
   "source": [
    "with open('uniiweb.csv', 'r', encoding='utf-8') as file:\n",
    "    # 读取文件内容\n",
    "    iweb = file.readlines()\n",
    "iweb= [iweb.rstrip('\\n') for iweb in iweb] \n",
    "iweb = list(set(iweb))\n",
    "with open('oacald.csv', 'r', encoding='utf-8') as file:\n",
    "    # 读取文件内容\n",
    "    oacald = file.readlines()\n",
    "oacald= [oacald.rstrip('\\n') for oacald in oacald] \n",
    "with open('unicoca60k.txt', 'r', encoding='utf-8') as file:\n",
    "    coca60k = file.readlines()\n",
    "coca60k= [coca60k.rstrip('\\n') for coca60k in coca60k] \n",
    "coca60k = list(set(coca60k))"
   ]
  },
  {
   "cell_type": "code",
   "execution_count": 3,
   "id": "d985abb7-ee36-4d20-906f-80605642dbe9",
   "metadata": {},
   "outputs": [],
   "source": [
    "with open('google.csv', 'r', encoding='utf-8') as file:\n",
    "    google = file.readlines()\n",
    "google= [google.rstrip('\\n') for google in google] \n",
    "google = list(set(google))"
   ]
  },
  {
   "cell_type": "code",
   "execution_count": 4,
   "id": "9bb1712a-f516-4f10-adea-1ce13268a423",
   "metadata": {},
   "outputs": [],
   "source": [
    "with open('unibnc.csv', 'r', encoding='latin1') as file:\n",
    "    bnc = file.readlines()\n",
    "bnc= [bnc.rstrip('\\n') for bnc in bnc] \n",
    "google = list(set(google))"
   ]
  },
  {
   "cell_type": "code",
   "execution_count": 5,
   "id": "3bba97d4-1310-4f11-a7bf-4462ee2da2be",
   "metadata": {},
   "outputs": [],
   "source": [
    "with open('SUBTLEXus.csv', 'r', encoding='utf-8') as file:\n",
    "    SUBTLEXus = file.readlines()\n",
    "SUBTLEXus= [SUBTLEXus.rstrip('\\n') for SUBTLEXus in SUBTLEXus] "
   ]
  },
  {
   "cell_type": "code",
   "execution_count": 25,
   "id": "b5e2b8ab-13d4-4537-b2b7-e04a3c6d2780",
   "metadata": {},
   "outputs": [],
   "source": [
    "with open('cefr.csv', 'r', encoding='latin1') as file:\n",
    "    cefr = file.readlines()\n",
    "cefr= [cefr.rstrip('\\n') for cefr in cefr] "
   ]
  },
  {
   "cell_type": "code",
   "execution_count": 31,
   "id": "d74dea52-6418-4e9e-a75a-4cec995e42f7",
   "metadata": {},
   "outputs": [],
   "source": [
    "import pandas as pd\n",
    "with open('oacald.csv', 'r', encoding='utf-8') as file:\n",
    "    # 读取文件内容\n",
    "    oacald = file.readlines()\n",
    "oacald= [oacald.rstrip('\\n') for oacald in oacald] \n",
    "def filter(list):\n",
    "    list = filter_word_list(oacald, list)\n",
    "    list = pd.DataFrame(list) \n",
    "    list.to_csv(\"filtered_cefr.csv\",index=False)\n",
    "filter(cefr)"
   ]
  },
  {
   "cell_type": "code",
   "execution_count": 34,
   "id": "c87455ec-607a-46c1-b89b-0fc7a2d799a6",
   "metadata": {},
   "outputs": [
    {
     "data": {
      "text/plain": [
       "array(['cattle', 'clothes', 'albeit', ..., 'running water',\n",
       "       'special offer', 'the Web'], dtype=object)"
      ]
     },
     "execution_count": 34,
     "metadata": {},
     "output_type": "execute_result"
    }
   ],
   "source": [
    "cefr = pd.read_csv(\"filtered_cefr.csv\")\n",
    "cefr = cefr['0'].unique()\n",
    "with open(\"filtered_cefr.txt\", \"w\",encoding=\"utf-8\") as f:\n",
    "  f.write(\"\\n\".join(cefr))\n",
    "cefr"
   ]
  },
  {
   "cell_type": "code",
   "execution_count": null,
   "id": "670d84f6-dc30-4e69-8deb-1a87e1ffd51a",
   "metadata": {},
   "outputs": [],
   "source": []
  },
  {
   "cell_type": "code",
   "execution_count": null,
   "id": "9bc6bc03-56cb-4de3-81fb-d992d263502a",
   "metadata": {},
   "outputs": [],
   "source": []
  },
  {
   "cell_type": "code",
   "execution_count": null,
   "id": "150c1969-b779-4427-94d8-df3d3cccbfa5",
   "metadata": {},
   "outputs": [],
   "source": [
    "import pandas as pd\n",
    "# 过滤单词表B\n",
    "filtered_SUBTLEXus = filter_word_list(oacald, SUBTLEXus)\n",
    "filtered_SUBTLEXus = pd.DataFrame(filtered_SUBTLEXus) \n",
    "filtered_SUBTLEXus.to_csv(\"filtered_SUBTLEXus.csv\",index=False)"
   ]
  },
  {
   "cell_type": "code",
   "execution_count": null,
   "id": "7e705b9f-85f1-4a19-8740-92ba757b78d8",
   "metadata": {},
   "outputs": [],
   "source": []
  },
  {
   "cell_type": "code",
   "execution_count": 36,
   "id": "d7cdb8a9-88d6-424d-bd4a-bd83048461db",
   "metadata": {},
   "outputs": [],
   "source": [
    "# 示例单词表\n",
    "#word_list_a = [\"apple\", \"banana\", \"cherry\", \"date\", \"fig\", \"grape\", \"melon\"]\n",
    "#word_list_b = [\"banana\", \"cherry\", \"kiwi\", \"melon\", \"orange\", \"fig\"]\n",
    "import pandas as pd\n",
    "# 过滤单词表B\n",
    "filtered_SUBTLEXus = filter_word_list(oacald, SUBTLEXus)\n",
    "filtered_SUBTLEXus = pd.DataFrame(filtered_SUBTLEXus) \n",
    "filtered_SUBTLEXus.to_csv(\"filtered_SUBTLEXus.csv\",index=False)"
   ]
  },
  {
   "cell_type": "code",
   "execution_count": null,
   "id": "f70700b7-3c9a-42d8-ad68-58e4877f3819",
   "metadata": {},
   "outputs": [],
   "source": []
  },
  {
   "cell_type": "code",
   "execution_count": null,
   "id": "50dc8936-4917-4645-a600-50177a80e04a",
   "metadata": {},
   "outputs": [],
   "source": []
  },
  {
   "cell_type": "code",
   "execution_count": 25,
   "id": "2914d742-b3c6-4466-a296-5ef6e5192107",
   "metadata": {},
   "outputs": [],
   "source": [
    "filtered_google.to_csv(\"filtered_google.csv\",index=False)"
   ]
  },
  {
   "cell_type": "code",
   "execution_count": 13,
   "id": "3e20d360-2cda-489e-8d29-29262e20aa29",
   "metadata": {},
   "outputs": [],
   "source": [
    "import pandas as pd\n",
    "data = pd.read_csv(\"./filtered_iweb.csv\")\n",
    "#data['0'].head(3000).to_csv(\"iweb3k.csv\", index=False, header=False)"
   ]
  },
  {
   "cell_type": "code",
   "execution_count": 17,
   "id": "0a97d5e1-598b-4c46-b587-d72104811dc8",
   "metadata": {},
   "outputs": [],
   "source": [
    "def exk(path):\n",
    "    data = pd.read_csv(path)\n",
    "    data['0'].head(3000).to_csv('3k'+path, index=False, header=False)\n",
    "    data['0'].head(6000).to_csv('6k'+path, index=False, header=False)\n",
    "    data['0'].head(10000).to_csv('10k'+path, index=False, header=False)\n",
    "    data['0'].head(15000).to_csv('15k'+path, index=False, header=False)\n",
    "    data['0'].head(25000).to_csv('25k'+path, index=False, header=False)"
   ]
  },
  {
   "cell_type": "code",
   "execution_count": 22,
   "id": "000f948b-7c27-4b65-b0f5-db9ad47d07bd",
   "metadata": {},
   "outputs": [],
   "source": [
    "import pandas as pd\n",
    "path = \"filtered_SUBTLEXus.csv\"\n",
    "exk(path)"
   ]
  },
  {
   "cell_type": "code",
   "execution_count": null,
   "id": "62479b54-ef7f-4421-b98f-404f62b2e20e",
   "metadata": {},
   "outputs": [],
   "source": []
  },
  {
   "cell_type": "code",
   "execution_count": null,
   "id": "35ea0708-a98c-4034-86b5-054e472eeb5d",
   "metadata": {},
   "outputs": [],
   "source": []
  }
 ],
 "metadata": {
  "kernelspec": {
   "display_name": "Python 3 (ipykernel)",
   "language": "python",
   "name": "python3"
  },
  "language_info": {
   "codemirror_mode": {
    "name": "ipython",
    "version": 3
   },
   "file_extension": ".py",
   "mimetype": "text/x-python",
   "name": "python",
   "nbconvert_exporter": "python",
   "pygments_lexer": "ipython3",
   "version": "3.9.7"
  }
 },
 "nbformat": 4,
 "nbformat_minor": 5
}
